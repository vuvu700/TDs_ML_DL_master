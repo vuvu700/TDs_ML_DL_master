{
 "cells": [
  {
   "cell_type": "markdown",
   "metadata": {},
   "source": [
    "# TP N°5: Ensemebles de modèles\n",
    "\n",
    "Dans ce TP nous allons voir comment combiner des modèles pour améliorer les performances de prédiction.\n"
   ]
  },
  {
   "cell_type": "markdown",
   "metadata": {},
   "source": [
    "## A compléter ici :\n",
    "### Nom : Andrieu\n",
    "### Prénom : Ludovic\n",
    "### N étudiant : 22103219"
   ]
  },
  {
   "cell_type": "markdown",
   "metadata": {},
   "source": [
    "## Bagging (Bootstrap Aggregating)\n",
    "\n",
    "Le **Bagging** (Bootstrap Aggregating) est une méthode d'**apprentissage d'ensemble** qui vise à améliorer la précision et la robustesse des modèles en combinant plusieurs estimateurs entraînés indépendamment. \n",
    "\n",
    "### Principe du Bagging\n",
    "\n",
    "Le Bagging repose sur les étapes suivantes :\n",
    "\n",
    "1. **Génération de plusieurs échantillons bootstrap**  \n",
    "   - À partir du jeu de données d'entraînement, on génère plusieurs sous-échantillons en tirant aléatoirement avec remise.\n",
    "   \n",
    "2. **Entraînement de plusieurs modèles**  \n",
    "   - Un même modèle de base (ex. : arbre de décision, régression) est entraîné sur chaque sous-échantillon.\n",
    "\n",
    "3. **Agrégation des prédictions**  \n",
    "   - Pour une tâche de classification : on effectue un **vote majoritaire** entre les modèles.  \n",
    "   - Pour une tâche de régression : on prend la **moyenne** des prédictions.\n",
    "\n",
    "### Avantages du Bagging\n",
    "\n",
    "- **Réduction de la variance** : en combinant plusieurs modèles, le Bagging permet de stabiliser les prédictions et d'éviter le surapprentissage.  \n",
    "- **Robustesse aux perturbations** : les modèles individuels étant entraînés sur des échantillons différents, ils sont moins sensibles aux variations du jeu de données.  \n",
    "- **Parallélisation possible** : chaque modèle étant entraîné indépendamment, le Bagging est facilement parallélisable.  \n",
    "\n",
    "Une application courante du Bagging est l'algorithme **Random Forest**, qui utilise des arbres de décision comme modèles de base.\n"
   ]
  },
  {
   "cell_type": "markdown",
   "metadata": {},
   "source": [
    "# Exercice 1.1 : Implémentation manuelle du Bagging en régression\n",
    "\n",
    "Dans cet exercice, nous allons implémenter **manuellement** l’algorithme de **Bagging** pour un problème de régression, sans utiliser `BaggingRegressor` de `scikit-learn`. Nous utiliserons un **arbre de décision** comme modèle de base.\n",
    "\n",
    "## Objectifs de l'exercice\n",
    "\n",
    "- Comprendre le fonctionnement interne du Bagging appliqué à la régression.  \n",
    "- Générer des échantillons bootstrap à partir des données d'entraînement.  \n",
    "- Entraîner plusieurs modèles indépendants sur ces échantillons.  \n",
    "- Agréger les prédictions des modèles en utilisant la **moyenne** des prédictions.  \n",
    "- Comparer les performances du modèle simple et du modèle avec Bagging.  \n",
    "\n",
    "## Consignes\n",
    "\n",
    "1. **Chargement des données**  \n",
    "   - Générer un jeu de données de régression (`make_regression` de `sklearn.datasets`).  \n",
    "   - Séparer les données en un ensemble d’entraînement et un ensemble de test.  \n",
    "\n",
    "2. **Entraînement d'un modèle de base**  \n",
    "   - Entraîner un **arbre de décision** (`DecisionTreeRegressor`) sur les données d'entraînement.  \n",
    "   - Évaluer sa performance sur les données de test avec l'**erreur quadratique moyenne (MSE)**.  \n",
    "\n",
    "3. **Implémentation manuelle du Bagging**  \n",
    "   - **Génération des échantillons bootstrap** : créer plusieurs sous-échantillons en tirant aléatoirement avec remise.  \n",
    "   - **Entraînement de plusieurs modèles** : entraîner un **arbre de décision** sur chaque sous-échantillon.  \n",
    "   - **Agrégation des prédictions** : prendre la **moyenne des prédictions** des modèles entraînés.  \n",
    "\n",
    "4. **Comparaison des résultats**  \n",
    "   - Comparer la performance du modèle unique et du modèle avec Bagging.  \n",
    "   - Comparer la performance en fonction de nombre de sous-modèles (en utilisant matplotlib).\n",
    "\n",
    "## Indications\n",
    "\n",
    "- Utiliser `train_test_split` de `sklearn.model_selection` pour diviser les données.  \n",
    "- Pour créer les échantillons bootstrap, utiliser `np.random.choice` avec `replace=True`.  \n",
    "- Pour évaluer les modèles, utiliser `mean_squared_error` où `mean_absolute_error` de `sklearn.metrics`.  \n",
    "- Tester différents nombres d’estimateurs (`n_estimators`) pour observer l’impact du Bagging.  \n"
   ]
  },
  {
   "cell_type": "code",
   "execution_count": 2,
   "metadata": {},
   "outputs": [
    {
     "name": "stderr",
     "output_type": "stream",
     "text": [
      "Matplotlib is building the font cache; this may take a moment.\n"
     ]
    },
    {
     "name": "stdout",
     "output_type": "stream",
     "text": [
      "700 300\n"
     ]
    }
   ],
   "source": [
    "import numpy as np\n",
    "import matplotlib.pyplot as plt\n",
    "from sklearn.model_selection import train_test_split\n",
    "from sklearn.datasets import make_regression\n",
    "from sklearn.tree import DecisionTreeRegressor\n",
    "from sklearn.metrics import mean_squared_error, mean_absolute_error\n",
    "\n",
    "X, y, *_ = make_regression(n_samples=1000, n_features=20, n_informative=10, noise=10, random_state=42)\n",
    "X_train, X_test, y_train, y_test = train_test_split(X, y, test_size=0.3, random_state=42)\n",
    "print(len(X_train), len(X_test))"
   ]
  },
  {
   "cell_type": "code",
   "execution_count": 3,
   "metadata": {},
   "outputs": [],
   "source": [
    "\n",
    "\n",
    "class MyBaggingRegressor():\n",
    "    def __init__(self, model:DecisionTreeRegressor, nbSubModels:int) -> None:\n",
    "        assert model.get_params(deep=False)[\"criterion\"] in (\"squared_error\", \"absolute_error\", )\n",
    "        self.allModels: list[DecisionTreeRegressor] = [\n",
    "            DecisionTreeRegressor().set_params(**model.get_params()) \n",
    "            for _ in range(nbSubModels)]\n",
    "    @property\n",
    "    def nbSubModels(self)->int: \n",
    "        return len(self.allModels)\n",
    "    \n",
    "    def fit(self, X:np.ndarray, y:np.ndarray)->None:\n",
    "        for modelIndex, model in enumerate(self.allModels):\n",
    "            model.fit(*self._createSubSamples(\n",
    "                self._preprocessDatas(X, modelIndex), y))\n",
    "\n",
    "    def predict(self, X:np.ndarray)->np.ndarray:\n",
    "        y_sum = np.zeros((len(X), ))\n",
    "        for modelIndex in range(self.nbSubModels):\n",
    "            y_sum += self.predict_model(X, modelIndex=modelIndex)\n",
    "        return (y_sum / self.nbSubModels)\n",
    "    \n",
    "    def predict_model(self, X:np.ndarray, modelIndex:int)->np.ndarray:\n",
    "        return self.allModels[modelIndex].predict(self._preprocessDatas(X, modelIndex))\n",
    "\n",
    "    def _preprocessDatas(self, X:np.ndarray, modelIndex:int)->np.ndarray:\n",
    "        return X\n",
    "\n",
    "    def _createSubSamples(self, X:np.ndarray, y:np.ndarray)->tuple[np.ndarray, np.ndarray]:\n",
    "        N = len(y)\n",
    "        subIndexes = np.random.randint(0, N, size=(N, ))\n",
    "        return (X[subIndexes], y[subIndexes])\n",
    "\n",
    "\n",
    "    def evaluate(self, X:np.ndarray, y_true:np.ndarray)->float:\n",
    "        loss = mean_squared_error(y_true, self.predict(X))\n",
    "        return float(loss) # should be from a np.float64"
   ]
  },
  {
   "cell_type": "code",
   "execution_count": 4,
   "metadata": {},
   "outputs": [
    {
     "name": "stdout",
     "output_type": "stream",
     "text": [
      "train loss = 1196.347\n",
      "test loss = 7322.064\n"
     ]
    }
   ],
   "source": [
    "myBagg = MyBaggingRegressor(model=DecisionTreeRegressor(), nbSubModels=100)\n",
    "myBagg.fit(X_train, y_train)\n",
    "print(f\"train loss = {myBagg.evaluate(X_train, y_train):.3f}\")\n",
    "print(f\"test loss = {myBagg.evaluate(X_test, y_test):.3f}\")"
   ]
  },
  {
   "cell_type": "markdown",
   "metadata": {},
   "source": [
    "# Exercise 1.2\n",
    "\n",
    "- Faire la meme chose en utilisant `BaggingRegressor`"
   ]
  },
  {
   "cell_type": "code",
   "execution_count": 5,
   "metadata": {},
   "outputs": [
    {
     "name": "stdout",
     "output_type": "stream",
     "text": [
      "train loss = 1173.439\n",
      "test loss = 7336.207\n",
      "\n",
      "base mse: 20083.367 +/- 1839.782\n",
      "bagg mse: 8354.688 +/- 1069.676\n"
     ]
    }
   ],
   "source": [
    "from sklearn.ensemble import BaggingRegressor\n",
    "\n",
    "from sklearn.model_selection import cross_val_score\n",
    "baseModel = DecisionTreeRegressor()\n",
    "baggModel = BaggingRegressor(baseModel, n_estimators=100, n_jobs=5)\n",
    "\n",
    "baggModel.fit(X_train, y_train)\n",
    "y_train_pred = baggModel.predict(X_train)\n",
    "y_test_pred = baggModel.predict(X_test)\n",
    "\n",
    "print(f\"train loss = {mean_squared_error(y_train, y_train_pred):.3f}\")\n",
    "print(f\"test loss = {mean_squared_error(y_test, y_test_pred):.3f}\")\n",
    "print()\n",
    "\n",
    "base_cv_scores = -1 * cross_val_score(baseModel, X, y, cv=5, n_jobs=5, scoring=\"neg_mean_squared_error\")\n",
    "bagg_cv_scores = -1 * cross_val_score(baggModel, X, y, cv=5, n_jobs=5, scoring=\"neg_mean_squared_error\")\n",
    "print(f\"base mse: {base_cv_scores.mean():.3f} +/- {base_cv_scores.std():.3f}\")\n",
    "print(f\"bagg mse: {bagg_cv_scores.mean():.3f} +/- {bagg_cv_scores.std():.3f}\")"
   ]
  },
  {
   "cell_type": "markdown",
   "metadata": {},
   "source": [
    "# Exercice 2 : Implémentation des forêts aléatoires\n",
    "\n",
    "Dans cet exercice, nous allons explorer **les forêts aléatoires**, une amélioration du Bagging qui introduit une **sélection aléatoire des caractéristiques** à chaque division de l’arbre. Nous commencerons par une **implémentation manuelle**, avant d'utiliser `RandomForestRegressor` de `scikit-learn`.\n",
    "\n",
    "## Objectifs de l'exercice\n",
    "\n",
    "- Comprendre la différence entre le Bagging et les forêts aléatoires.  \n",
    "- Implémenter une forêt aléatoire manuellement en modifiant le Bagging.  \n",
    "- Observer l'impact de la sélection aléatoire des caractéristiques sur la performance du modèle.  \n",
    "- Comparer les résultats entre l'implémentation manuelle et `RandomForestRegressor`.\n",
    "\n",
    "## Exercice 2.1 : Implémentation manuelle des forêts aléatoires\n",
    "\n",
    "### Consignes\n",
    "\n",
    "1. **Chargement des données**  \n",
    "   - Utiliser `make_regression` de `sklearn.datasets` pour générer un problème de régression.  \n",
    "   - Séparer les données en un ensemble d’entraînement et un ensemble de test.  \n",
    "\n",
    "2. **Implémentation manuelle des forêts aléatoires**  \n",
    "   - Reprendre le code du **Bagging manuel** de l'exercice précédent.  \n",
    "   - Modifier l’entraînement des modèles pour que chaque **arbre de décision sélectionne un sous-ensemble aléatoire de features** à chaque division. Pour les selectionner, vous \n",
    "   - Tester différents nombres de variables sélectionnées (`max_features`).  \n",
    "\n",
    "3. **Évaluation et comparaison**  \n",
    "   - Comparer la performance du modèle avec et sans sélection aléatoire des features. \n",
    "\n",
    "### Indications\n",
    "\n",
    "- Pour choisir les features à utiliser pour chaque modèle vous pouver utiliser `np.random.choice` sur `X_train.shape[1]`\n",
    "- Tester différentes valeurs de `max_features` (ex. : `sqrt(n_features)`, `log2(n_features)`, ou un nombre fixe).  \n",
    "- Évaluer la performance avec `mean_squared_error`.  "
   ]
  },
  {
   "cell_type": "code",
   "execution_count": 6,
   "metadata": {},
   "outputs": [],
   "source": [
    "from sklearn.tree import DecisionTreeRegressor\n",
    "from typing_extensions import Literal, override\n",
    "\n",
    "_MaxFeaturesKind = Literal[\"sqrt\", \"log2\"]\n",
    "\n",
    "class MyRandomForestRegressor(MyBaggingRegressor):\n",
    "    def __init__(self, model: DecisionTreeRegressor, nbSubModels: int,\n",
    "                 datasNbFeatures:int, maxFeatures:int|_MaxFeaturesKind, minFeatures:int) -> None:\n",
    "        assert minFeatures >= 1, f\"can't train a model on {minFeatures} features\"\n",
    "        super().__init__(model, nbSubModels)\n",
    "        self.datasNbFeatures: int = datasNbFeatures\n",
    "        self.maxFeatures:int|_MaxFeaturesKind = maxFeatures\n",
    "        self.minFeatures:int = minFeatures\n",
    "        self.perModelsFeatures: list[np.ndarray] = []\n",
    "        for index in range(self.nbSubModels):\n",
    "            self.perModelsFeatures.append(self._decideSubFeatures())\n",
    "    \n",
    "    def _getMaxFeatures(self, nbFeatures: int)->int:\n",
    "        maxFeatures: int\n",
    "        if self.maxFeatures == \"sqrt\":\n",
    "            maxFeatures = int(np.ceil(np.sqrt(nbFeatures)))\n",
    "        elif self.maxFeatures == \"log2\":\n",
    "            maxFeatures = int(np.ceil(np.log2(nbFeatures)))\n",
    "        else: # => self.maxFeatures is an int\n",
    "            maxFeatures = int(self.maxFeatures)\n",
    "        assert maxFeatures >= 1, f\"can't train a model on {maxFeatures} features\"\n",
    "        assert maxFeatures <= maxFeatures, f\"the datas dont have enougth features ({maxFeatures} > {nbFeatures})\"\n",
    "        return maxFeatures\n",
    "    \n",
    "    def _decideSubFeatures(self):\n",
    "        nbSubFeatures: int = np.random.randint(\n",
    "            self.minFeatures, self._getMaxFeatures(self.datasNbFeatures)+1)\n",
    "        nbFeatures: int = X.shape[1]\n",
    "        subFeaturesIndexes = np.arange(nbFeatures)\n",
    "        np.random.shuffle(subFeaturesIndexes)\n",
    "        subFeaturesIndexes = subFeaturesIndexes[: nbSubFeatures]\n",
    "        return subFeaturesIndexes\n",
    "    \n",
    "    @override\n",
    "    def _preprocessDatas(self, X:np.ndarray, modelIndex:int)->np.ndarray:\n",
    "        return X[:, self.perModelsFeatures[modelIndex]]\n",
    "    "
   ]
  },
  {
   "cell_type": "code",
   "execution_count": 7,
   "metadata": {},
   "outputs": [],
   "source": [
    "# X, y, *_ = make_regression(n_samples=1000, n_features=20, n_informative=15, noise=10, random_state=42)\n",
    "# X_train, X_test, y_train, y_test = train_test_split(X, y, test_size=0.3, random_state=42)\n",
    "# print(len(X_train), len(X_test))"
   ]
  },
  {
   "cell_type": "code",
   "execution_count": 8,
   "metadata": {},
   "outputs": [
    {
     "name": "stdout",
     "output_type": "stream",
     "text": [
      "sklearn model\n",
      "train loss = 1528.968\n",
      "test loss = 10329.343\n",
      "\n",
      "my model\n",
      "train loss = 1140.441\n",
      "test loss = 7456.646\n"
     ]
    }
   ],
   "source": [
    "myRandForest = MyRandomForestRegressor(\n",
    "    model=DecisionTreeRegressor(), nbSubModels=100,\n",
    "    datasNbFeatures=(X.shape[1]), maxFeatures=15, minFeatures=10)\n",
    "myRandForest.fit(X_train, y_train)\n",
    "print(\"sklearn model\")\n",
    "print(f\"train loss = {myRandForest.evaluate(X_train, y_train):.3f}\")\n",
    "print(f\"test loss = {myRandForest.evaluate(X_test, y_test):.3f}\")\n",
    "\n",
    "print()\n",
    "print(\"my model\")\n",
    "myBagg = MyBaggingRegressor(model=DecisionTreeRegressor(), nbSubModels=100)\n",
    "myBagg.fit(X_train, y_train)\n",
    "print(f\"train loss = {myBagg.evaluate(X_train, y_train):.3f}\")\n",
    "print(f\"test loss = {myBagg.evaluate(X_test, y_test):.3f}\")"
   ]
  },
  {
   "cell_type": "markdown",
   "metadata": {},
   "source": [
    "## Exercice 2.2 : Utilisation de `RandomForestRegressor`\n",
    "\n",
    "### Consignes\n",
    "\n",
    "1. Utiliser `RandomForestRegressor` de `sklearn.ensemble` avec les mêmes données.  \n",
    "2. Ajuster les paramètres `n_estimators` et `max_features`.  \n",
    "3. Comparer les performances entre l’implémentation manuelle et `RandomForestRegressor`.  \n",
    " \n"
   ]
  },
  {
   "cell_type": "code",
   "execution_count": 9,
   "metadata": {},
   "outputs": [
    {
     "name": "stdout",
     "output_type": "stream",
     "text": [
      "train loss = 1171.860\n",
      "test loss = 7303.203\n",
      "\n",
      "base mse: 20257.571 +/- 2217.437\n",
      "bagg mse: 8427.153 +/- 1061.554\n"
     ]
    }
   ],
   "source": [
    "from sklearn.ensemble import RandomForestRegressor\n",
    "from sklearn.model_selection import cross_val_score\n",
    "baseModel = DecisionTreeRegressor()\n",
    "randForest = RandomForestRegressor(100, max_features=15)\n",
    "\n",
    "randForest.fit(X_train, y_train)\n",
    "y_train_pred = randForest.predict(X_train)\n",
    "y_test_pred = randForest.predict(X_test)\n",
    "\n",
    "print(f\"train loss = {mean_squared_error(y_train, y_train_pred):.3f}\")\n",
    "print(f\"test loss = {mean_squared_error(y_test, y_test_pred):.3f}\")\n",
    "print()\n",
    "\n",
    "base_cv_scores = -1 * cross_val_score(baseModel, X, y, cv=5, n_jobs=5, scoring=\"neg_mean_squared_error\")\n",
    "forest_cv_scores = -1 * cross_val_score(randForest, X, y, cv=5, n_jobs=5, scoring=\"neg_mean_squared_error\")\n",
    "print(f\"base mse: {base_cv_scores.mean():.3f} +/- {base_cv_scores.std():.3f}\")\n",
    "print(f\"bagg mse: {forest_cv_scores.mean():.3f} +/- {forest_cv_scores.std():.3f}\")\n",
    "\n",
    "# les performance de MyRandomForestRegressor sont bien en dessous de celles de sklearn\n",
    "# probablement duent a la selection des features "
   ]
  },
  {
   "cell_type": "markdown",
   "metadata": {},
   "source": [
    "# Exercice 3.1 : AdaBoost\n",
    "\n",
    "L'**AdaBoost** (Adaptive Boosting) est une méthode d'ensemble qui combine plusieurs modèles faibles (souvent des arbres de décision peu profonds) pour créer un modèle puissant. Le principe de base est de **donner plus de poids aux erreurs** faites par les premiers modèles et de corriger ces erreurs dans les modèles suivants. Chaque modèle successif est entraîné sur les exemples mal classés du modèle précédent.\n",
    "\n",
    "## Objectifs de l'exercice\n",
    "\n",
    "1. Entraîner un modèle AdaBoost en régression avec `AdaBoostRegressor`.\n",
    "2. Comparer les performances d'un **modèle de base** (par exemple, un arbre de décision) et du modèle **AdaBoost**.\n",
    "\n",
    "### Consignes\n",
    "\n",
    "1. **Chargement des données**\n",
    "   - Utilisez `make_regression` pour générer un jeu de données de régression.\n",
    "   - Divisez les données en ensemble d’entraînement et ensemble de test.\n",
    "\n",
    "2. **Modèle de base : Arbre de décision**\n",
    "   - Entraînez un modèle de base (par exemple un arbre de décision) et évaluez sa performance sur les données de test avec **l'erreur quadratique moyenne (MSE)**.\n",
    "\n",
    "3. **Utilisation d'AdaBoostRegressor**\n",
    "   - Utilisez `AdaBoostRegressor` de `scikit-learn` pour entraîner un modèle AdaBoost sur les données.\n",
    "   - Comparez les performances du modèle AdaBoost avec celles du modèle de base.\n",
    "\n",
    "4. **Analyse des résultats**\n",
    "   - Que se passe-t-il si vous changez la profondeur maximale d'arbres utilisés?\n",
    "   - Que se passe-t-il si vous changez le nombre d'estimateurs dans `AdaBoostRegressor` ?\n",
    "\n",
    "### Indications\n",
    "\n",
    "- Utilisez `AdaBoostRegressor` de `sklearn.ensemble`.\n",
    "- Pour comparer les performances, utilisez `mean_squared_error` de `sklearn.metrics`.\n"
   ]
  },
  {
   "cell_type": "code",
   "execution_count": 33,
   "metadata": {},
   "outputs": [
    {
     "name": "stdout",
     "output_type": "stream",
     "text": [
      "train loss = 0.318\n",
      "test loss = 6411.306\n",
      "\n",
      "base mse: 20463.418 +/- 2700.162\n",
      "ada mse: 7573.067 +/- 1050.120\n"
     ]
    }
   ],
   "source": [
    "from sklearn.ensemble import AdaBoostRegressor\n",
    "from sklearn.model_selection import cross_val_score\n",
    "baseModel_ada = DecisionTreeRegressor()\n",
    "adaModel = AdaBoostRegressor(baseModel_ada, n_estimators=100)\n",
    "\n",
    "adaModel.fit(X_train, y_train)\n",
    "y_train_pred = adaModel.predict(X_train)\n",
    "y_test_pred = adaModel.predict(X_test)\n",
    "\n",
    "print(f\"train loss = {mean_squared_error(y_train, y_train_pred):.3f}\")\n",
    "print(f\"test loss = {mean_squared_error(y_test, y_test_pred):.3f}\")\n",
    "print()\n",
    "\n",
    "base_cv_scores = -1 * cross_val_score(baseModel_ada, X, y, cv=5, n_jobs=5, scoring=\"neg_mean_squared_error\")\n",
    "ada_cv_scores = -1 * cross_val_score(adaModel, X, y, cv=5, n_jobs=5, scoring=\"neg_mean_squared_error\")\n",
    "print(f\"base mse: {base_cv_scores.mean():.3f} +/- {base_cv_scores.std():.3f}\")\n",
    "print(f\"ada mse: {ada_cv_scores.mean():.3f} +/- {ada_cv_scores.std():.3f}\")"
   ]
  },
  {
   "cell_type": "markdown",
   "metadata": {},
   "source": [
    "# Exercice 3.2 : Gradient Boosting\n",
    "\n",
    "Le **Gradient Boosting** est une autre méthode d'ensemble basée sur l'optimisation d'un modèle prédictif, mais contrairement à l'AdaBoost, il ajuste les erreurs par **gradient de la fonction de coût**. Chaque modèle successif essaie de corriger l’erreur du modèle précédent, en se concentrant sur les résidus. Le Gradient Boosting est particulièrement puissant et largement utilisé dans des tâches complexes comme la régression et la classification.\n",
    "\n",
    "## Objectifs de l'exercice\n",
    "\n",
    "1. Entraîner un modèle de **Gradient Boosting** avec `GradientBoostingRegressor`.\n",
    "2. Comparer les performances du **modèle de base** (arbre de décision) et du modèle **Gradient Boosting**.\n",
    "\n",
    "### Consignes\n",
    "\n",
    "1. **Chargement des données**\n",
    "   - Utilisez `make_regression` pour générer un jeu de données de régression.\n",
    "   - Divisez les données en un ensemble d’entraînement et un ensemble de test.\n",
    "\n",
    "2. **Modèle de base : Arbre de décision**\n",
    "   - Entraînez un modèle de base (par exemple, un arbre de décision) et évaluez sa performance sur les données de test avec **l'erreur quadratique moyenne (MSE)**.\n",
    "\n",
    "3. **Utilisation de GradientBoostingRegressor**\n",
    "   - Utilisez `GradientBoostingRegressor` de `scikit-learn` pour entraîner un modèle Gradient Boosting sur les données.\n",
    "   - Comparez les performances du modèle Gradient Boosting avec celles du modèle de base.\n",
    "\n",
    "4. **Analyse des résultats**\n",
    "   - Que se passe-t-il si vous changez la profondeur maximale d'arbres utilisés? Visualisez la dépendance.\n",
    "   - Que se passe-t-il si vous changez le nombre d'arbres (`n_estimators`) dans `GradientBoostingRegressor` ?\n",
    "   - Comparez la vitesse de convergence d'erreur entre AdaBoost et Gradient boosting (visuellement).\n",
    "\n",
    "### Indications\n",
    "\n",
    "- Utilisez `GradientBoostingRegressor` de `sklearn.ensemble`.\n",
    "- Pour comparer les performances, utilisez `mean_squared_error` de `sklearn.metrics`.\n"
   ]
  },
  {
   "cell_type": "code",
   "execution_count": 34,
   "metadata": {},
   "outputs": [
    {
     "name": "stdout",
     "output_type": "stream",
     "text": [
      "train loss = 453.697\n",
      "test loss = 3223.681\n",
      "\n",
      "ada mse: 7459.951 +/- 1051.675\n",
      "GB mse: 3486.111 +/- 468.653\n"
     ]
    }
   ],
   "source": [
    "from sklearn.ensemble import GradientBoostingRegressor\n",
    "from sklearn.model_selection import cross_val_score\n",
    "GBModel = GradientBoostingRegressor(n_estimators=100, max_depth=3)\n",
    "\n",
    "GBModel.fit(X_train, y_train)\n",
    "y_train_pred = GBModel.predict(X_train)\n",
    "y_test_pred = GBModel.predict(X_test)\n",
    "\n",
    "print(f\"train loss = {mean_squared_error(y_train, y_train_pred):.3f}\")\n",
    "print(f\"test loss = {mean_squared_error(y_test, y_test_pred):.3f}\")\n",
    "print()\n",
    "\n",
    "ada_cv_scores = -1 * cross_val_score(adaModel, X, y, cv=5, n_jobs=5, scoring=\"neg_mean_squared_error\")\n",
    "gb_cv_scores = -1 * cross_val_score(GBModel, X, y, cv=5, n_jobs=5, scoring=\"neg_mean_squared_error\")\n",
    "print(f\"ada mse: {ada_cv_scores.mean():.3f} +/- {ada_cv_scores.std():.3f}\")\n",
    "print(f\"GB mse: {gb_cv_scores.mean():.3f} +/- {gb_cv_scores.std():.3f}\")"
   ]
  },
  {
   "cell_type": "code",
   "execution_count": null,
   "metadata": {},
   "outputs": [
    {
     "data": {
      "text/plain": [
       "<matplotlib.legend.Legend at 0x7f7b6defcf90>"
      ]
     },
     "execution_count": 38,
     "metadata": {},
     "output_type": "execute_result"
    },
    {
     "data": {
      "image/png": "[encoded data removed]",
      "text/plain": [
       "<Figure size 640x480 with 1 Axes>"
      ]
     },
     "metadata": {},
     "output_type": "display_data"
    }
   ],
   "source": [
    "gb_hist = GBModel.train_score_\n",
    "ada_hist = [mean_squared_error(y_test, y_pred) \n",
    "            for y_pred in adaModel.staged_predict(X_test)]\n",
    "#print(gb_hist)\n",
    "#print(ada_hist)\n",
    "plt.plot(gb_hist, label=\"gb_hist\")\n",
    "plt.plot(ada_hist, label=\"ada_hist\")\n",
    "plt.legend()"
   ]
  },
  {
   "cell_type": "code",
   "execution_count": 16,
   "metadata": {},
   "outputs": [
    {
     "name": "stdout",
     "output_type": "stream",
     "text": [
      "train loss = 47.151\n",
      "test loss = 3938.543\n",
      "\n",
      "GB mse: 4514.827 +/- 792.815\n"
     ]
    }
   ],
   "source": [
    "GBModel = GradientBoostingRegressor(n_estimators=100, max_depth=5)\n",
    "\n",
    "GBModel.fit(X_train, y_train)\n",
    "y_train_pred = GBModel.predict(X_train)\n",
    "y_test_pred = GBModel.predict(X_test)\n",
    "\n",
    "print(f\"train loss = {mean_squared_error(y_train, y_train_pred):.3f}\")\n",
    "print(f\"test loss = {mean_squared_error(y_test, y_test_pred):.3f}\")\n",
    "print()\n",
    "\n",
    "gb_cv_scores = -1 * cross_val_score(GBModel, X, y, cv=5, n_jobs=5, scoring=\"neg_mean_squared_error\")\n",
    "print(f\"GB mse: {gb_cv_scores.mean():.3f} +/- {gb_cv_scores.std():.3f}\")"
   ]
  },
  {
   "cell_type": "code",
   "execution_count": 17,
   "metadata": {},
   "outputs": [
    {
     "name": "stdout",
     "output_type": "stream",
     "text": [
      "train loss = 0.000\n",
      "test loss = 20040.855\n",
      "\n",
      "GB mse: 18404.607 +/- 1963.957\n"
     ]
    }
   ],
   "source": [
    "GBModel = GradientBoostingRegressor(n_estimators=100, max_depth=15)\n",
    "\n",
    "GBModel.fit(X_train, y_train)\n",
    "y_train_pred = GBModel.predict(X_train)\n",
    "y_test_pred = GBModel.predict(X_test)\n",
    "\n",
    "print(f\"train loss = {mean_squared_error(y_train, y_train_pred):.3f}\")\n",
    "print(f\"test loss = {mean_squared_error(y_test, y_test_pred):.3f}\")\n",
    "print()\n",
    "\n",
    "gb_cv_scores = -1 * cross_val_score(GBModel, X, y, cv=5, n_jobs=5, scoring=\"neg_mean_squared_error\")\n",
    "print(f\"GB mse: {gb_cv_scores.mean():.3f} +/- {gb_cv_scores.std():.3f}\")"
   ]
  },
  {
   "cell_type": "code",
   "execution_count": 14,
   "metadata": {},
   "outputs": [],
   "source": [
    "# max_depth augmente la tendence a overfit, ce qui réduit grandement les perfs sur les tests"
   ]
  },
  {
   "cell_type": "code",
   "execution_count": 18,
   "metadata": {},
   "outputs": [
    {
     "name": "stdout",
     "output_type": "stream",
     "text": [
      "train loss = 17128.939\n",
      "test loss = 20269.475\n",
      "\n",
      "GB mse: 20810.167 +/- 1293.157\n"
     ]
    }
   ],
   "source": [
    "GBModel = GradientBoostingRegressor(n_estimators=10, max_depth=3)\n",
    "\n",
    "GBModel.fit(X_train, y_train)\n",
    "y_train_pred = GBModel.predict(X_train)\n",
    "y_test_pred = GBModel.predict(X_test)\n",
    "\n",
    "print(f\"train loss = {mean_squared_error(y_train, y_train_pred):.3f}\")\n",
    "print(f\"test loss = {mean_squared_error(y_test, y_test_pred):.3f}\")\n",
    "print()\n",
    "\n",
    "gb_cv_scores = -1 * cross_val_score(GBModel, X, y, cv=5, n_jobs=5, scoring=\"neg_mean_squared_error\")\n",
    "print(f\"GB mse: {gb_cv_scores.mean():.3f} +/- {gb_cv_scores.std():.3f}\")"
   ]
  },
  {
   "cell_type": "code",
   "execution_count": 20,
   "metadata": {},
   "outputs": [
    {
     "name": "stdout",
     "output_type": "stream",
     "text": [
      "train loss = 76.179\n",
      "test loss = 2442.422\n",
      "\n",
      "GB mse: 2518.169 +/- 303.590\n"
     ]
    }
   ],
   "source": [
    "GBModel = GradientBoostingRegressor(n_estimators=300, max_depth=3)\n",
    "\n",
    "GBModel.fit(X_train, y_train)\n",
    "y_train_pred = GBModel.predict(X_train)\n",
    "y_test_pred = GBModel.predict(X_test)\n",
    "\n",
    "print(f\"train loss = {mean_squared_error(y_train, y_train_pred):.3f}\")\n",
    "print(f\"test loss = {mean_squared_error(y_test, y_test_pred):.3f}\")\n",
    "print()\n",
    "\n",
    "gb_cv_scores = -1 * cross_val_score(GBModel, X, y, cv=5, n_jobs=5, scoring=\"neg_mean_squared_error\")\n",
    "print(f\"GB mse: {gb_cv_scores.mean():.3f} +/- {gb_cv_scores.std():.3f}\")"
   ]
  },
  {
   "cell_type": "code",
   "execution_count": null,
   "metadata": {},
   "outputs": [],
   "source": [
    "# augmenter n_estimators a un impacte positif sur les resultats \n",
    "# on diminue aussi la variance mais surtout les erreur (au cout de temps a train et predict + memoire)"
   ]
  }
 ],
 "metadata": {
  "kernelspec": {
   "display_name": "usr",
   "language": "python",
   "name": "python3"
  },
  "language_info": {
   "codemirror_mode": {
    "name": "ipython",
    "version": 3
   },
   "file_extension": ".py",
   "mimetype": "text/x-python",
   "name": "python",
   "nbconvert_exporter": "python",
   "pygments_lexer": "ipython3",
   "version": "3.11.2"
  }
 },
 "nbformat": 4,
 "nbformat_minor": 2
}
