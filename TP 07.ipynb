{
 "cells": [
  {
   "cell_type": "markdown",
   "id": "f1c2e6e4",
   "metadata": {},
   "source": [
    "# TP 7 : Manipulation de tenseurs avec Pytorch"
   ]
  },
  {
   "cell_type": "code",
   "execution_count": 13,
   "id": "60c88bd5",
   "metadata": {},
   "outputs": [],
   "source": [
    "# NOM : Andrieu\n",
    "# Prénom : Ludovic\n",
    "# N° étudiant : 22103219"
   ]
  },
  {
   "cell_type": "code",
   "execution_count": 2,
   "id": "5e98c694",
   "metadata": {},
   "outputs": [],
   "source": [
    "import torch\n",
    "import time\n",
    "\n",
    "device = torch.device(\"cuda\" if torch.cuda.is_available() else \"cpu\")"
   ]
  },
  {
   "cell_type": "markdown",
   "id": "5fc0bafb",
   "metadata": {},
   "source": [
    "L'objectif de cette séance est de se familiariser avec les manipulations tensorielles de base dans PyTorch, de comprendre la relation entre un tenseur et son stockage sous-jacent, et d'apprécier l'efficacité du calcul tensoriel par rapport à ses équivalents itératifs en Python."
   ]
  },
  {
   "cell_type": "markdown",
   "id": "0ed16c99",
   "metadata": {},
   "source": [
    "## Exercice 1"
   ]
  },
  {
   "cell_type": "markdown",
   "id": "2d6128e2",
   "metadata": {},
   "source": [
    "Générer la matrice suivante sans utiliser de boucle Python :\n",
    "\n",
    "```\n",
    "1 2 1 1 1 1 2 1 1 1 1 2 1\n",
    "2 2 2 2 2 2 2 2 2 2 2 2 2\n",
    "1 2 1 1 1 1 2 1 1 1 1 2 1\n",
    "1 2 1 3 3 1 2 1 3 3 1 2 1\n",
    "1 2 1 3 3 1 2 1 3 3 1 2 1\n",
    "1 2 1 1 1 1 2 1 1 1 1 2 1\n",
    "2 2 2 2 2 2 2 2 2 2 2 2 2\n",
    "1 2 1 1 1 1 2 1 1 1 1 2 1\n",
    "1 2 1 3 3 1 2 1 3 3 1 2 1\n",
    "1 2 1 3 3 1 2 1 3 3 1 2 1\n",
    "1 2 1 1 1 1 2 1 1 1 1 2 1\n",
    "2 2 2 2 2 2 2 2 2 2 2 2 2\n",
    "1 2 1 1 1 1 2 1 1 1 1 2 1\n",
    "```"
   ]
  },
  {
   "cell_type": "markdown",
   "id": "272bcce2",
   "metadata": {},
   "source": [
    "**Indice :** Utiliser `torch.full` et le `slicing`"
   ]
  },
  {
   "cell_type": "code",
   "execution_count": 3,
   "id": "1c425e41",
   "metadata": {},
   "outputs": [
    {
     "data": {
      "text/plain": [
       "tensor([[1, 2, 1, 1, 1, 1, 2, 1, 1, 1, 1, 2, 1],\n",
       "        [2, 2, 2, 2, 2, 2, 2, 2, 2, 2, 2, 2, 2],\n",
       "        [1, 2, 1, 1, 1, 1, 2, 1, 1, 1, 1, 2, 1],\n",
       "        [1, 2, 1, 3, 3, 1, 2, 1, 3, 3, 1, 2, 1],\n",
       "        [1, 2, 1, 3, 3, 1, 2, 1, 3, 3, 1, 2, 1],\n",
       "        [1, 2, 1, 1, 1, 1, 2, 1, 1, 1, 1, 2, 1],\n",
       "        [2, 2, 2, 2, 2, 2, 2, 2, 2, 2, 2, 2, 2],\n",
       "        [1, 2, 1, 1, 1, 1, 2, 1, 1, 1, 1, 2, 1],\n",
       "        [1, 2, 1, 3, 3, 1, 2, 1, 3, 3, 1, 2, 1],\n",
       "        [1, 2, 1, 3, 3, 1, 2, 1, 3, 3, 1, 2, 1],\n",
       "        [1, 2, 1, 1, 1, 1, 2, 1, 1, 1, 1, 2, 1],\n",
       "        [2, 2, 2, 2, 2, 2, 2, 2, 2, 2, 2, 2, 2],\n",
       "        [1, 2, 1, 1, 1, 1, 2, 1, 1, 1, 1, 2, 1]])"
      ]
     },
     "execution_count": 3,
     "metadata": {},
     "output_type": "execute_result"
    }
   ],
   "source": [
    "t = torch.full((13, 13), 1)\n",
    "t[1: : 5] = 2\n",
    "t[:, 1: : 5] = 2\n",
    "t[3:: 5, 3:: 5] = 3\n",
    "t[4:: 5, 3:: 5] = 3\n",
    "t[3:: 5, 4:: 5] = 3\n",
    "t[4:: 5, 4:: 5] = 3\n",
    "t"
   ]
  },
  {
   "cell_type": "markdown",
   "id": "b2384c75",
   "metadata": {},
   "source": [
    "## Exercice 2"
   ]
  },
  {
   "cell_type": "markdown",
   "id": "d905ecf5",
   "metadata": {},
   "source": [
    "Générer deux matrices carrées de dimension $5000 \\times 5000$ remplies de coefficients gaussiens aléatoires, calculer leur produit, mesurer le temps nécessaire et estimer le nombre de produits en virgule flottante exécutés par seconde (devrait être de l'ordre de milliards ou dizaines de milliards)."
   ]
  },
  {
   "cell_type": "markdown",
   "id": "37f9a9fe",
   "metadata": {},
   "source": [
    "**Indice :** Utiliser `torch.empty`, `torch.normal`, `torch.mm` et `time.perf_counter`."
   ]
  },
  {
   "cell_type": "code",
   "execution_count": 4,
   "id": "48292354",
   "metadata": {},
   "outputs": [
    {
     "name": "stdout",
     "output_type": "stream",
     "text": [
      "on fait 2.678 TOPS/sec\n"
     ]
    }
   ],
   "source": [
    "N = 5000\n",
    "a = torch.normal(torch.empty(N, N)).to(device)\n",
    "b = torch.normal(torch.empty(N, N)).to(device)\n",
    "tStart = time.perf_counter()\n",
    "_ = a @ b\n",
    "duration = time.perf_counter() - tStart\n",
    "del _, a, b\n",
    "nbOps = N ** 3\n",
    "print(f\"on fait {nbOps/duration/1e12:_.3f} TOPS/sec\")"
   ]
  },
  {
   "cell_type": "markdown",
   "id": "93aac63d",
   "metadata": {},
   "source": [
    "## Exercice 3"
   ]
  },
  {
   "cell_type": "markdown",
   "id": "e1a9da11",
   "metadata": {},
   "source": [
    "Écrire une fonction `mul_row`, en utilisant des boucles Python (et pas de slicing), qui prend un tenseur 2D en argument et renvoie un tenseur de même taille, dont la première ligne est identique à la première ligne du tenseur d'argument, la deuxième ligne est multipliée par deux, la troisième par trois, etc.\n",
    "\n",
    "**Exemple :**\n",
    "\n",
    "```python\n",
    ">>> torch.full((4, 8), 2.0)\n",
    ">>> m\n",
    "tensor([[2., 2., 2., 2., 2., 2., 2., 2.],\n",
    "        [2., 2., 2., 2., 2., 2., 2., 2.],\n",
    "        [2., 2., 2., 2., 2., 2., 2., 2.],\n",
    "        [2., 2., 2., 2., 2., 2., 2., 2.]])\n",
    ">>> mul_row(m)\n",
    "tensor([[2., 2., 2., 2., 2., 2., 2., 2.],\n",
    "        [4., 4., 4., 4., 4., 4., 4., 4.],\n",
    "        [6., 6., 6., 6., 6., 6., 6., 6.],\n",
    "        [8., 8., 8., 8., 8., 8., 8., 8.]])\n",
    "```\n",
    "\n",
    "Ensuite, écrire une seconde version nommée `mul_row_fast`, en utilisant des opérations tensorielles.\n",
    "\n",
    "Appliquer les deux versions à une matrice de taille $1000 \\times 400$ et mesurer le temps nécessaire pour chacune (il devrait y avoir plus de deux ordres de grandeur de différence)."
   ]
  },
  {
   "cell_type": "markdown",
   "id": "192bfef0",
   "metadata": {},
   "source": [
    "**Indice :** Utiliser le `broadcasting` et `torch.arange`, `torch.view`, `torch.mul` et `time.perf_counter`."
   ]
  },
  {
   "cell_type": "code",
   "execution_count": 5,
   "id": "dcaacdd2",
   "metadata": {},
   "outputs": [],
   "source": [
    "def mul_row(t:torch.Tensor)->torch.Tensor:\n",
    "    result = torch.empty_like(t)\n",
    "    nbRows, nbCols = t.shape\n",
    "    for row in range(nbRows):\n",
    "        for col in range(nbCols):\n",
    "            result[row, col] = t[row, col] * (1+row)\n",
    "    return result"
   ]
  },
  {
   "cell_type": "code",
   "execution_count": 6,
   "id": "8e7e24b2",
   "metadata": {},
   "outputs": [],
   "source": [
    "def mul_row_fast(t:torch.Tensor)->torch.Tensor:\n",
    "    nbRows, nbCols = t.shape\n",
    "    coeffs = torch.arange(1, nbRows+1, 1).to(t.device)\n",
    "    result = t * coeffs.view(nbRows, 1)\n",
    "    return result"
   ]
  },
  {
   "cell_type": "code",
   "execution_count": 7,
   "id": "869c7646",
   "metadata": {},
   "outputs": [
    {
     "name": "stdout",
     "output_type": "stream",
     "text": [
      "tensor([[2., 2., 2., 2., 2., 2., 2., 2.],\n",
      "        [4., 4., 4., 4., 4., 4., 4., 4.],\n",
      "        [6., 6., 6., 6., 6., 6., 6., 6.],\n",
      "        [8., 8., 8., 8., 8., 8., 8., 8.]])\n",
      "tensor([[2., 2., 2., 2., 2., 2., 2., 2.],\n",
      "        [4., 4., 4., 4., 4., 4., 4., 4.],\n",
      "        [6., 6., 6., 6., 6., 6., 6., 6.],\n",
      "        [8., 8., 8., 8., 8., 8., 8., 8.]])\n"
     ]
    }
   ],
   "source": [
    "print(mul_row(torch.full((4, 8), 2.0)))\n",
    "print(mul_row_fast(torch.full((4, 8), 2.0)))"
   ]
  },
  {
   "cell_type": "code",
   "execution_count": 8,
   "id": "cec7b0a1",
   "metadata": {},
   "outputs": [
    {
     "name": "stdout",
     "output_type": "stream",
     "text": [
      "on fait mul_row en 5.988 s\n",
      "on fait mul_row_fast en 311.400 µs\n"
     ]
    }
   ],
   "source": [
    "A = torch.normal(torch.empty((1000, 400)), 1.0)\n",
    "tStart = time.perf_counter()\n",
    "_ = mul_row(A)\n",
    "duration = time.perf_counter() - tStart\n",
    "print(f\"on fait mul_row en {duration:.3f} s\")\n",
    "tStart = time.perf_counter()\n",
    "_ = mul_row_fast(A)\n",
    "duration = time.perf_counter() - tStart\n",
    "print(f\"on fait mul_row_fast en {duration*1e6:.3f} µs\")\n",
    "del _\n"
   ]
  },
  {
   "cell_type": "markdown",
   "id": "eb79a217",
   "metadata": {},
   "source": [
    "## Exercice 4"
   ]
  },
  {
   "cell_type": "markdown",
   "id": "1083ff52",
   "metadata": {},
   "source": [
    "Écrire une fonction qui prend un ensemble d'apprentissage et un échantillon de test et renvoie l'étiquette du point d'apprentissage le plus proche de ce dernier.\n",
    "\n",
    "Plus précisément, écrire :\n",
    "\n",
    "```python\n",
    "def nearest_classification(train_input, train_target, x):\n",
    "    # Votre code ici\n",
    "```\n",
    "\n",
    "où :\n",
    "\n",
    "* `train_input` est un tenseur 2D de flottants de dimension $n \\times d$ contenant les vecteurs d'apprentissage,\n",
    "* `train_target` est un tenseur 1D de type `long` de dimension $n$ contenant les étiquettes d'apprentissage,\n",
    "* `x` est un tenseur 2D de flottants de dimension $m \\times d$ contenant plusieurs vecteurs de test,\n",
    "\n",
    "et la valeur renvoyée est la classe de l'échantillon d'apprentissage pour chaque vecteur de `x`, pour la norme $L^2$."
   ]
  },
  {
   "cell_type": "markdown",
   "id": "adbb67dc",
   "metadata": {},
   "source": [
    "**Indice :** La fonction ne doit pas comporter de boucle Python et peut utiliser notamment `torch.cdist`, `torch.argmin`, `torch.pow`."
   ]
  },
  {
   "cell_type": "code",
   "execution_count": 9,
   "id": "c422eb14",
   "metadata": {},
   "outputs": [
    {
     "data": {
      "text/plain": [
       "tensor([ 36, 980,  94, 167, 212, 363, 164,  55, 231])"
      ]
     },
     "execution_count": 9,
     "metadata": {},
     "output_type": "execute_result"
    }
   ],
   "source": [
    "def nearest_classification(\n",
    "        train_input:torch.Tensor, train_target:torch.Tensor,\n",
    "        x:torch.Tensor)->torch.Tensor:\n",
    "    dists = torch.cdist(train_input, x, p=2)\n",
    "    argMin = torch.argmin(dists, dim=0)\n",
    "    return train_target[argMin]\n",
    "n = 1000\n",
    "m = 9\n",
    "d = 105\n",
    "train_in = torch.empty((n, d)).normal_()\n",
    "train_cls = torch.arange(0, n, 1)\n",
    "test_in = torch.empty((m, d)).normal_()\n",
    "nearest_classification(train_in, train_cls, test_in)"
   ]
  },
  {
   "cell_type": "markdown",
   "id": "9bad17aa",
   "metadata": {},
   "source": [
    "## Exercice 5"
   ]
  },
  {
   "cell_type": "markdown",
   "id": "066e52d4",
   "metadata": {},
   "source": [
    "Écrire une fonction :\n",
    "\n",
    "```python\n",
    "def compute_nb_errors(train_input, train_target, test_input, test_target, mean=None, proj=None):\n",
    "    # Votre code ici\n",
    "```\n",
    "\n",
    "où :\n",
    "\n",
    "* `train_input` est un tenseur 2D de flottants de dimension $n \\times d$ contenant les vecteurs d'apprentissage,\n",
    "* `train_target` est un tenseur 1D de type `long` de dimension $n$ contenant les étiquettes d'apprentissage,\n",
    "* `test_input` est un tenseur 2D de flottants de dimension $m \\times d$ contenant les vecteurs de test,\n",
    "* `test_target` est un tenseur 1D de type `long` de dimension $m$ contenant les étiquettes de test,\n",
    "* `mean` est soit `None`, soit un tenseur 1D de flottants de dimension $d$,\n",
    "* `proj` est soit `None`, soit un tenseur 2D de flottants de dimension $c \\times d$.\n",
    "\n",
    "Cette fonction soustrait `mean` (si différent de `None`) aux vecteurs de `train_input` et `test_input`, applique l'opérateur `proj` (si différent de `None`) aux deux, et renvoie le nombre d'erreurs de classification en utilisant la règle du 1-plus proche voisin sur les données résultantes."
   ]
  },
  {
   "cell_type": "code",
   "execution_count": 10,
   "id": "5d69612f",
   "metadata": {},
   "outputs": [
    {
     "data": {
      "text/plain": [
       "331"
      ]
     },
     "execution_count": 10,
     "metadata": {},
     "output_type": "execute_result"
    }
   ],
   "source": [
    "def compute_nb_errors(\n",
    "        train_input:torch.Tensor, train_target:torch.Tensor, \n",
    "        test_input:torch.Tensor, test_target:torch.Tensor,\n",
    "        mean:None|torch.Tensor=None, proj:None|torch.Tensor=None)->int:\n",
    "    if mean is not None:\n",
    "        train_input = train_input - mean # not inplace\n",
    "        test_input = test_input - mean # not inplace\n",
    "    if proj is not None:\n",
    "        train_input = train_input @ proj.T  # not inplace\n",
    "        test_input = test_input @ proj.T # not inplace\n",
    "    near = nearest_classification(train_input, train_target, test_input)\n",
    "    errors = (near != test_target)\n",
    "    return int(errors.sum().item())\n",
    "    \n",
    "\n",
    "\n",
    "n = 10000\n",
    "nbCls = 3\n",
    "m = 500\n",
    "d = 15\n",
    "c = 21\n",
    "\n",
    "train_in = torch.empty((n, d)).normal_()\n",
    "train_cls = torch.randint(0, nbCls, (n ,))\n",
    "test_in = torch.empty((m, d)).normal_()\n",
    "test_cls = torch.randint(0, nbCls, (m ,))\n",
    "mean = torch.empty((d, )).normal_(mean=1.5, std=2)\n",
    "proj = torch.empty((c, d)).normal_(mean=1.0, std=0.54)\n",
    "compute_nb_errors(train_in, train_cls, test_in, test_cls, mean=mean, proj=proj)"
   ]
  },
  {
   "cell_type": "markdown",
   "id": "f51fc6ca",
   "metadata": {},
   "source": [
    "## Exercice 6"
   ]
  },
  {
   "cell_type": "markdown",
   "id": "73d527d6",
   "metadata": {},
   "source": [
    "Comparer les performances de la règle du 1-plus proche voisin sur les données brutes, puis sur les données projetées sur un sous-espace aléatoire de dimension 100 (c'est-à-dire en utilisant une base générée avec une loi normale)"
   ]
  },
  {
   "cell_type": "code",
   "execution_count": 11,
   "id": "93227c50",
   "metadata": {},
   "outputs": [
    {
     "data": {
      "text/plain": [
       "(569, 30)"
      ]
     },
     "execution_count": 11,
     "metadata": {},
     "output_type": "execute_result"
    }
   ],
   "source": [
    "from sklearn.datasets import load_breast_cancer\n",
    "\n",
    "X, y = load_breast_cancer(return_X_y=True)\n",
    "X.shape"
   ]
  },
  {
   "cell_type": "code",
   "execution_count": 12,
   "id": "bcb1bd05",
   "metadata": {},
   "outputs": [
    {
     "name": "stdout",
     "output_type": "stream",
     "text": [
      "nb of errores with proj: 10 +/- 2.6\n",
      "nb of errores with proj(dim=5): 10.5 +/- 2.8\n",
      "nb of errores without proj: 9.98 +/- 2.65\n"
     ]
    }
   ],
   "source": [
    "from sklearn.model_selection import train_test_split, cross_val_score\n",
    "import numpy\n",
    "\n",
    "X_torch = torch.from_numpy(X)\n",
    "y_torch = torch.from_numpy(y)\n",
    "\n",
    "scores_with_proj = []\n",
    "scores_with_proj2 = []\n",
    "scores_without_proj = []\n",
    "D = 5\n",
    "\n",
    "for _ in range(300):\n",
    "    train_input, test_input, train_target, test_target = \\\n",
    "        train_test_split(X_torch, y_torch, test_size=0.2)\n",
    "    mean = train_input.mean(dim=0)\n",
    "\n",
    "    proj = torch.empty((100, X.shape[1]), dtype=torch.float64).normal_(mean=0, std=1.0)\n",
    "    proj_small = torch.empty((D, X.shape[1]), dtype=torch.float64).normal_(mean=0, std=1.0)\n",
    "\n",
    "    scores_with_proj.append(\n",
    "        compute_nb_errors(\n",
    "            train_input, train_target, test_input,\n",
    "            test_target, mean=mean, proj=proj))\n",
    "    scores_with_proj2.append(\n",
    "        compute_nb_errors(\n",
    "            train_input, train_target, test_input,\n",
    "            test_target, mean=mean, proj=proj_small))\n",
    "    scores_without_proj.append(\n",
    "        compute_nb_errors(\n",
    "            train_input, train_target, test_input,\n",
    "            test_target, mean=mean, proj=None))\n",
    "\n",
    "print(f\"nb of errores with proj: {numpy.mean(scores_with_proj):.3g} +/- {numpy.std(scores_with_proj):.3g}\")\n",
    "print(f\"nb of errores with proj(dim={D}): {numpy.mean(scores_with_proj2):.3g} +/- {numpy.std(scores_with_proj2):.3g}\")\n",
    "print(f\"nb of errores without proj: {numpy.mean(scores_without_proj):.3g} +/- {numpy.std(scores_without_proj):.3g}\")"
   ]
  },
  {
   "cell_type": "code",
   "execution_count": null,
   "id": "a3e11606",
   "metadata": {},
   "outputs": [],
   "source": []
  }
 ],
 "metadata": {
  "kernelspec": {
   "display_name": "Python 3",
   "language": "python",
   "name": "python3"
  },
  "language_info": {
   "codemirror_mode": {
    "name": "ipython",
    "version": 3
   },
   "file_extension": ".py",
   "mimetype": "text/x-python",
   "name": "python",
   "nbconvert_exporter": "python",
   "pygments_lexer": "ipython3",
   "version": "3.12.4"
  }
 },
 "nbformat": 4,
 "nbformat_minor": 5
}
